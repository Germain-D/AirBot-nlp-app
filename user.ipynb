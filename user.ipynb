{
 "cells": [
  {
   "cell_type": "markdown",
   "metadata": {},
   "source": [
    "Germain Deffontaines - Flavien Lallemand"
   ]
  },
  {
   "cell_type": "markdown",
   "metadata": {},
   "source": [
    "Partie User :"
   ]
  },
  {
   "cell_type": "code",
   "execution_count": 39,
   "metadata": {},
   "outputs": [],
   "source": [
    "import pandas as pd\n",
    "import contractions\n",
    "import re\n",
    "import nltk\n",
    "import string\n",
    "from nltk.tokenize import  word_tokenize\n",
    "import numpy as np\n",
    "from stop_words import get_stop_words\n",
    "from nltk.corpus import stopwords\n",
    "from nltk.stem import WordNetLemmatizer\n"
   ]
  },
  {
   "cell_type": "code",
   "execution_count": 40,
   "metadata": {},
   "outputs": [],
   "source": [
    "phrase = \"@AmericanAir Info has been supplied to you 3 times.  Keep playing the game, I can go on too\""
   ]
  },
  {
   "cell_type": "code",
   "execution_count": 41,
   "metadata": {},
   "outputs": [],
   "source": [
    "#preprocessing\n",
    "\n",
    "\n",
    "def remove_punctuation(word_list):\n",
    "    PUNCUATION_LIST = list(string.punctuation)\n",
    "    return [w for w in word_list if w not in PUNCUATION_LIST]\n",
    "\n",
    "\n",
    "def preproc_pipe(data):\n",
    "    \n",
    "\n",
    "    \n",
    "    #tedatat to lowercase\n",
    "    data = data.lower()\n",
    "\n",
    "    #remove URL links\n",
    "    \n",
    "    data = (re.sub(r'https?:\\/\\/\\S+', '', data))\n",
    "    data = (re.sub(r\"www\\.[a-z]?\\.?(com)+|[a-z]+\\.(com)\", '', data))\n",
    "\n",
    "    #remove placeholders\n",
    "    data = (re.sub(r'{link}', '', data))\n",
    "    data = (re.sub(r\"\\[video\\]\", '', data))\n",
    "\n",
    "    #remove HTML reference characters\n",
    "    data = (re.sub(r'&[a-z]+;', '', data))\n",
    "\n",
    "    #remove handles\n",
    "    data = (re.sub(r\"@([a-zA-Z0-9_]{1,50})\",\"\", data))\n",
    "\n",
    "    #remove non-letter characters\n",
    "    data = (re.sub(r\"[^a-z\\s\\(\\-:\\)\\\\\\/\\];='#]\", '', data))\n",
    "\n",
    "    # Replace contractions with their longer forms \n",
    "    data = (contractions.fix(data))\n",
    "\n",
    "        #tokenize\n",
    " \n",
    "\n",
    "    data = nltk.word_tokenize(data)\n",
    "\n",
    "    #remove punctuation\n",
    "    data = remove_punctuation(data)\n",
    "\n",
    "\n",
    "   \n",
    "    #remove stopwords\n",
    "    stop_words = list(get_stop_words('en'))         #About 900 stopwords\n",
    "    nltk_words = list(stopwords.words('english')) #About 150 stopwords\n",
    "    stop_words.extend(nltk_words)\n",
    "\n",
    "    data = ([w for w in data if w not in stop_words])\n",
    "\n",
    "    #stemming/lemmatization\n",
    "\n",
    "    lemmatizer = WordNetLemmatizer()\n",
    "    data = ([lemmatizer.lemmatize(w) for w in data])\n",
    "\n",
    "\n",
    "\n",
    "\n",
    "\n",
    "\n",
    "\n",
    "    return data\n",
    "\n",
    "\n",
    "phrase_clean = preproc_pipe(phrase)\n",
    "\n",
    "\n"
   ]
  },
  {
   "cell_type": "code",
   "execution_count": 42,
   "metadata": {},
   "outputs": [
    {
     "name": "stdout",
     "output_type": "stream",
     "text": [
      "['info', 'supplied', 'time', 'keep', 'playing', 'game', 'go']\n"
     ]
    }
   ],
   "source": [
    "print(phrase_clean)"
   ]
  }
 ],
 "metadata": {
  "interpreter": {
   "hash": "916dbcbb3f70747c44a77c7bcd40155683ae19c65e1c03b4aa3499c5328201f1"
  },
  "kernelspec": {
   "display_name": "Python 3.8.10 64-bit",
   "language": "python",
   "name": "python3"
  },
  "language_info": {
   "codemirror_mode": {
    "name": "ipython",
    "version": 3
   },
   "file_extension": ".py",
   "mimetype": "text/x-python",
   "name": "python",
   "nbconvert_exporter": "python",
   "pygments_lexer": "ipython3",
   "version": "3.8.10"
  },
  "orig_nbformat": 4
 },
 "nbformat": 4,
 "nbformat_minor": 2
}
