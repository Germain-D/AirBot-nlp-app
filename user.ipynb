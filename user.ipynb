{
 "cells": [
  {
   "cell_type": "markdown",
   "metadata": {},
   "source": [
    "Germain Deffontaines - Flavien Lallemand"
   ]
  },
  {
   "cell_type": "markdown",
   "metadata": {},
   "source": [
    "Partie User :"
   ]
  },
  {
   "cell_type": "code",
   "execution_count": 2,
   "metadata": {},
   "outputs": [],
   "source": [
    "import pandas as pd\n",
    "import contractions\n",
    "import re\n",
    "import nltk\n",
    "import string\n",
    "from nltk.tokenize import  word_tokenize\n",
    "import numpy as np\n",
    "from stop_words import get_stop_words\n",
    "from nltk.corpus import stopwords\n",
    "from nltk.stem import WordNetLemmatizer\n"
   ]
  },
  {
   "cell_type": "code",
   "execution_count": 3,
   "metadata": {},
   "outputs": [],
   "source": [
    "phrase = \"@AmericanAir Info has been supplied to you 3 times.  Keep playing the game, I can go on too\""
   ]
  },
  {
   "cell_type": "code",
   "execution_count": 4,
   "metadata": {},
   "outputs": [],
   "source": [
    "#preprocessing\n",
    "\n",
    "\n",
    "def remove_punctuation(word_list):\n",
    "    PUNCUATION_LIST = list(string.punctuation)\n",
    "    return [w for w in word_list if w not in PUNCUATION_LIST]\n",
    "\n",
    "\n",
    "def preproc_pipe(data):\n",
    "    \n",
    "\n",
    "    \n",
    "    #tedatat to lowercase\n",
    "    data = data.lower()\n",
    "\n",
    "    #remove URL links\n",
    "    \n",
    "    data = (re.sub(r'https?:\\/\\/\\S+', '', data))\n",
    "    data = (re.sub(r\"www\\.[a-z]?\\.?(com)+|[a-z]+\\.(com)\", '', data))\n",
    "\n",
    "    #remove placeholders\n",
    "    data = (re.sub(r'{link}', '', data))\n",
    "    data = (re.sub(r\"\\[video\\]\", '', data))\n",
    "\n",
    "    #remove HTML reference characters\n",
    "    data = (re.sub(r'&[a-z]+;', '', data))\n",
    "\n",
    "    #remove handles\n",
    "    data = (re.sub(r\"@([a-zA-Z0-9_]{1,50})\",\"\", data))\n",
    "\n",
    "    #remove non-letter characters\n",
    "    data = (re.sub(r\"[^a-z\\s\\(\\-:\\)\\\\\\/\\];='#]\", '', data))\n",
    "\n",
    "    # Replace contractions with their longer forms \n",
    "    data = (contractions.fix(data))\n",
    "\n",
    "        #tokenize\n",
    " \n",
    "\n",
    "    data = nltk.word_tokenize(data)\n",
    "\n",
    "    #remove punctuation\n",
    "    data = remove_punctuation(data)\n",
    "\n",
    "\n",
    "   \n",
    "    #remove stopwords\n",
    "    stop_words = list(get_stop_words('en'))         #About 900 stopwords\n",
    "    nltk_words = list(stopwords.words('english')) #About 150 stopwords\n",
    "    stop_words.extend(nltk_words)\n",
    "\n",
    "    data = ([w for w in data if w not in stop_words])\n",
    "\n",
    "    #stemming/lemmatization\n",
    "\n",
    "    lemmatizer = WordNetLemmatizer()\n",
    "    data = ([lemmatizer.lemmatize(w) for w in data])\n",
    "\n",
    "\n",
    "    return data\n",
    "\n",
    "\n",
    "phrase_clean = preproc_pipe(phrase)\n",
    "\n",
    "\n"
   ]
  },
  {
   "cell_type": "code",
   "execution_count": 5,
   "metadata": {},
   "outputs": [
    {
     "name": "stdout",
     "output_type": "stream",
     "text": [
      "['info', 'supplied', 'time', 'keep', 'playing', 'game', 'go']\n"
     ]
    }
   ],
   "source": [
    "print(phrase_clean)"
   ]
  },
  {
   "cell_type": "code",
   "execution_count": 8,
   "metadata": {},
   "outputs": [
    {
     "ename": "TypeError",
     "evalue": "doc2bow expects an array of unicode tokens on input, not a single string",
     "output_type": "error",
     "traceback": [
      "\u001b[0;31m---------------------------------------------------------------------------\u001b[0m",
      "\u001b[0;31mTypeError\u001b[0m                                 Traceback (most recent call last)",
      "\u001b[1;32m/home/germain/Documents/Rule_Based_ChatBot/user.ipynb Cell 7'\u001b[0m in \u001b[0;36m<cell line: 3>\u001b[0;34m()\u001b[0m\n\u001b[1;32m      <a href='vscode-notebook-cell:/home/germain/Documents/Rule_Based_ChatBot/user.ipynb#ch0000006?line=0'>1</a>\u001b[0m \u001b[39mimport\u001b[39;00m \u001b[39mgensim\u001b[39;00m\u001b[39m.\u001b[39;00m\u001b[39mcorpora\u001b[39;00m \u001b[39mas\u001b[39;00m \u001b[39mcorpora\u001b[39;00m\u001b[39m# Create Dictionary\u001b[39;00m\n\u001b[1;32m      <a href='vscode-notebook-cell:/home/germain/Documents/Rule_Based_ChatBot/user.ipynb#ch0000006?line=1'>2</a>\u001b[0m data_words \u001b[39m=\u001b[39m phrase_clean\n\u001b[0;32m----> <a href='vscode-notebook-cell:/home/germain/Documents/Rule_Based_ChatBot/user.ipynb#ch0000006?line=2'>3</a>\u001b[0m id2word \u001b[39m=\u001b[39m corpora\u001b[39m.\u001b[39;49mDictionary(data_words)\u001b[39m# Create Corpus\u001b[39;00m\n\u001b[1;32m      <a href='vscode-notebook-cell:/home/germain/Documents/Rule_Based_ChatBot/user.ipynb#ch0000006?line=3'>4</a>\u001b[0m texts \u001b[39m=\u001b[39m data_words\u001b[39m# Term Document Frequency\u001b[39;00m\n\u001b[1;32m      <a href='vscode-notebook-cell:/home/germain/Documents/Rule_Based_ChatBot/user.ipynb#ch0000006?line=4'>5</a>\u001b[0m corpus \u001b[39m=\u001b[39m [id2word\u001b[39m.\u001b[39mdoc2bow(text) \u001b[39mfor\u001b[39;00m text \u001b[39min\u001b[39;00m texts]\u001b[39m# View\u001b[39;00m\n",
      "File \u001b[0;32m~/.local/lib/python3.8/site-packages/gensim/corpora/dictionary.py:78\u001b[0m, in \u001b[0;36mDictionary.__init__\u001b[0;34m(self, documents, prune_at)\u001b[0m\n\u001b[1;32m     <a href='file:///home/germain/.local/lib/python3.8/site-packages/gensim/corpora/dictionary.py?line=74'>75</a>\u001b[0m \u001b[39mself\u001b[39m\u001b[39m.\u001b[39mnum_nnz \u001b[39m=\u001b[39m \u001b[39m0\u001b[39m\n\u001b[1;32m     <a href='file:///home/germain/.local/lib/python3.8/site-packages/gensim/corpora/dictionary.py?line=76'>77</a>\u001b[0m \u001b[39mif\u001b[39;00m documents \u001b[39mis\u001b[39;00m \u001b[39mnot\u001b[39;00m \u001b[39mNone\u001b[39;00m:\n\u001b[0;32m---> <a href='file:///home/germain/.local/lib/python3.8/site-packages/gensim/corpora/dictionary.py?line=77'>78</a>\u001b[0m     \u001b[39mself\u001b[39;49m\u001b[39m.\u001b[39;49madd_documents(documents, prune_at\u001b[39m=\u001b[39;49mprune_at)\n\u001b[1;32m     <a href='file:///home/germain/.local/lib/python3.8/site-packages/gensim/corpora/dictionary.py?line=78'>79</a>\u001b[0m     \u001b[39mself\u001b[39m\u001b[39m.\u001b[39madd_lifecycle_event(\n\u001b[1;32m     <a href='file:///home/germain/.local/lib/python3.8/site-packages/gensim/corpora/dictionary.py?line=79'>80</a>\u001b[0m         \u001b[39m\"\u001b[39m\u001b[39mcreated\u001b[39m\u001b[39m\"\u001b[39m,\n\u001b[1;32m     <a href='file:///home/germain/.local/lib/python3.8/site-packages/gensim/corpora/dictionary.py?line=80'>81</a>\u001b[0m         msg\u001b[39m=\u001b[39m\u001b[39mf\u001b[39m\u001b[39m\"\u001b[39m\u001b[39mbuilt \u001b[39m\u001b[39m{\u001b[39;00m\u001b[39mself\u001b[39m\u001b[39m}\u001b[39;00m\u001b[39m from \u001b[39m\u001b[39m{\u001b[39;00m\u001b[39mself\u001b[39m\u001b[39m.\u001b[39mnum_docs\u001b[39m}\u001b[39;00m\u001b[39m documents (total \u001b[39m\u001b[39m{\u001b[39;00m\u001b[39mself\u001b[39m\u001b[39m.\u001b[39mnum_pos\u001b[39m}\u001b[39;00m\u001b[39m corpus positions)\u001b[39m\u001b[39m\"\u001b[39m,\n\u001b[1;32m     <a href='file:///home/germain/.local/lib/python3.8/site-packages/gensim/corpora/dictionary.py?line=81'>82</a>\u001b[0m     )\n",
      "File \u001b[0;32m~/.local/lib/python3.8/site-packages/gensim/corpora/dictionary.py:204\u001b[0m, in \u001b[0;36mDictionary.add_documents\u001b[0;34m(self, documents, prune_at)\u001b[0m\n\u001b[1;32m    <a href='file:///home/germain/.local/lib/python3.8/site-packages/gensim/corpora/dictionary.py?line=200'>201</a>\u001b[0m         logger\u001b[39m.\u001b[39minfo(\u001b[39m\"\u001b[39m\u001b[39madding document #\u001b[39m\u001b[39m%i\u001b[39;00m\u001b[39m to \u001b[39m\u001b[39m%s\u001b[39;00m\u001b[39m\"\u001b[39m, docno, \u001b[39mself\u001b[39m)\n\u001b[1;32m    <a href='file:///home/germain/.local/lib/python3.8/site-packages/gensim/corpora/dictionary.py?line=202'>203</a>\u001b[0m     \u001b[39m# update Dictionary with the document\u001b[39;00m\n\u001b[0;32m--> <a href='file:///home/germain/.local/lib/python3.8/site-packages/gensim/corpora/dictionary.py?line=203'>204</a>\u001b[0m     \u001b[39mself\u001b[39;49m\u001b[39m.\u001b[39;49mdoc2bow(document, allow_update\u001b[39m=\u001b[39;49m\u001b[39mTrue\u001b[39;49;00m)  \u001b[39m# ignore the result, here we only care about updating token ids\u001b[39;00m\n\u001b[1;32m    <a href='file:///home/germain/.local/lib/python3.8/site-packages/gensim/corpora/dictionary.py?line=205'>206</a>\u001b[0m logger\u001b[39m.\u001b[39minfo(\u001b[39m\"\u001b[39m\u001b[39mbuilt \u001b[39m\u001b[39m%s\u001b[39;00m\u001b[39m from \u001b[39m\u001b[39m%i\u001b[39;00m\u001b[39m documents (total \u001b[39m\u001b[39m%i\u001b[39;00m\u001b[39m corpus positions)\u001b[39m\u001b[39m\"\u001b[39m, \u001b[39mself\u001b[39m, \u001b[39mself\u001b[39m\u001b[39m.\u001b[39mnum_docs, \u001b[39mself\u001b[39m\u001b[39m.\u001b[39mnum_pos)\n",
      "File \u001b[0;32m~/.local/lib/python3.8/site-packages/gensim/corpora/dictionary.py:241\u001b[0m, in \u001b[0;36mDictionary.doc2bow\u001b[0;34m(self, document, allow_update, return_missing)\u001b[0m\n\u001b[1;32m    <a href='file:///home/germain/.local/lib/python3.8/site-packages/gensim/corpora/dictionary.py?line=208'>209</a>\u001b[0m \u001b[39m\"\"\"Convert `document` into the bag-of-words (BoW) format = list of `(token_id, token_count)` tuples.\u001b[39;00m\n\u001b[1;32m    <a href='file:///home/germain/.local/lib/python3.8/site-packages/gensim/corpora/dictionary.py?line=209'>210</a>\u001b[0m \n\u001b[1;32m    <a href='file:///home/germain/.local/lib/python3.8/site-packages/gensim/corpora/dictionary.py?line=210'>211</a>\u001b[0m \u001b[39mParameters\u001b[39;00m\n\u001b[0;32m   (...)\u001b[0m\n\u001b[1;32m    <a href='file:///home/germain/.local/lib/python3.8/site-packages/gensim/corpora/dictionary.py?line=237'>238</a>\u001b[0m \n\u001b[1;32m    <a href='file:///home/germain/.local/lib/python3.8/site-packages/gensim/corpora/dictionary.py?line=238'>239</a>\u001b[0m \u001b[39m\"\"\"\u001b[39;00m\n\u001b[1;32m    <a href='file:///home/germain/.local/lib/python3.8/site-packages/gensim/corpora/dictionary.py?line=239'>240</a>\u001b[0m \u001b[39mif\u001b[39;00m \u001b[39misinstance\u001b[39m(document, \u001b[39mstr\u001b[39m):\n\u001b[0;32m--> <a href='file:///home/germain/.local/lib/python3.8/site-packages/gensim/corpora/dictionary.py?line=240'>241</a>\u001b[0m     \u001b[39mraise\u001b[39;00m \u001b[39mTypeError\u001b[39;00m(\u001b[39m\"\u001b[39m\u001b[39mdoc2bow expects an array of unicode tokens on input, not a single string\u001b[39m\u001b[39m\"\u001b[39m)\n\u001b[1;32m    <a href='file:///home/germain/.local/lib/python3.8/site-packages/gensim/corpora/dictionary.py?line=242'>243</a>\u001b[0m \u001b[39m# Construct (word, frequency) mapping.\u001b[39;00m\n\u001b[1;32m    <a href='file:///home/germain/.local/lib/python3.8/site-packages/gensim/corpora/dictionary.py?line=243'>244</a>\u001b[0m counter \u001b[39m=\u001b[39m defaultdict(\u001b[39mint\u001b[39m)\n",
      "\u001b[0;31mTypeError\u001b[0m: doc2bow expects an array of unicode tokens on input, not a single string"
     ]
    }
   ],
   "source": [
    "import gensim.corpora as corpora# Create Dictionary\n",
    "data_words = phrase_clean\n",
    "id2word = corpora.Dictionary(data_words)# Create Corpus\n",
    "texts = data_words# Term Document Frequency\n",
    "corpus = [id2word.doc2bow(text) for text in texts]# View\n",
    "print(corpus[:1][0][:30])"
   ]
  },
  {
   "cell_type": "code",
   "execution_count": 9,
   "metadata": {},
   "outputs": [
    {
     "ename": "NameError",
     "evalue": "name 'corpus' is not defined",
     "output_type": "error",
     "traceback": [
      "\u001b[0;31m---------------------------------------------------------------------------\u001b[0m",
      "\u001b[0;31mNameError\u001b[0m                                 Traceback (most recent call last)",
      "\u001b[1;32m/home/germain/Documents/Rule_Based_ChatBot/user.ipynb Cell 8'\u001b[0m in \u001b[0;36m<cell line: 4>\u001b[0;34m()\u001b[0m\n\u001b[1;32m      <a href='vscode-notebook-cell:/home/germain/Documents/Rule_Based_ChatBot/user.ipynb#ch0000007?line=1'>2</a>\u001b[0m \u001b[39mimport\u001b[39;00m \u001b[39mgensim\u001b[39;00m\n\u001b[1;32m      <a href='vscode-notebook-cell:/home/germain/Documents/Rule_Based_ChatBot/user.ipynb#ch0000007?line=2'>3</a>\u001b[0m num_topics \u001b[39m=\u001b[39m \u001b[39m20\u001b[39m\u001b[39m# Build LDA model\u001b[39;00m\n\u001b[0;32m----> <a href='vscode-notebook-cell:/home/germain/Documents/Rule_Based_ChatBot/user.ipynb#ch0000007?line=3'>4</a>\u001b[0m lda_model \u001b[39m=\u001b[39m gensim\u001b[39m.\u001b[39mmodels\u001b[39m.\u001b[39mLdaMulticore(corpus\u001b[39m=\u001b[39mcorpus,\n\u001b[1;32m      <a href='vscode-notebook-cell:/home/germain/Documents/Rule_Based_ChatBot/user.ipynb#ch0000007?line=4'>5</a>\u001b[0m                                        id2word\u001b[39m=\u001b[39mid2word,\n\u001b[1;32m      <a href='vscode-notebook-cell:/home/germain/Documents/Rule_Based_ChatBot/user.ipynb#ch0000007?line=5'>6</a>\u001b[0m                                        num_topics\u001b[39m=\u001b[39mnum_topics)\u001b[39m# Print the Keyword in the 10 topics\u001b[39;00m\n\u001b[1;32m      <a href='vscode-notebook-cell:/home/germain/Documents/Rule_Based_ChatBot/user.ipynb#ch0000007?line=6'>7</a>\u001b[0m pprint(lda_model\u001b[39m.\u001b[39mprint_topics())\n\u001b[1;32m      <a href='vscode-notebook-cell:/home/germain/Documents/Rule_Based_ChatBot/user.ipynb#ch0000007?line=7'>8</a>\u001b[0m doc_lda \u001b[39m=\u001b[39m lda_model[corpus]\n",
      "\u001b[0;31mNameError\u001b[0m: name 'corpus' is not defined"
     ]
    }
   ],
   "source": [
    "from pprint import pprint# number of topics\n",
    "import gensim\n",
    "num_topics = 20# Build LDA model\n",
    "lda_model = gensim.models.LdaMulticore(corpus=corpus,\n",
    "                                       id2word=id2word,\n",
    "                                       num_topics=num_topics)# Print the Keyword in the 10 topics\n",
    "pprint(lda_model.print_topics())\n",
    "doc_lda = lda_model[corpus]"
   ]
  }
 ],
 "metadata": {
  "interpreter": {
   "hash": "916dbcbb3f70747c44a77c7bcd40155683ae19c65e1c03b4aa3499c5328201f1"
  },
  "kernelspec": {
   "display_name": "Python 3.8.10 64-bit",
   "language": "python",
   "name": "python3"
  },
  "language_info": {
   "codemirror_mode": {
    "name": "ipython",
    "version": 3
   },
   "file_extension": ".py",
   "mimetype": "text/x-python",
   "name": "python",
   "nbconvert_exporter": "python",
   "pygments_lexer": "ipython3",
   "version": "3.8.10"
  },
  "orig_nbformat": 4
 },
 "nbformat": 4,
 "nbformat_minor": 2
}
